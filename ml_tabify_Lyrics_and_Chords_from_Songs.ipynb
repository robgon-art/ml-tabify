{
  "nbformat": 4,
  "nbformat_minor": 0,
  "metadata": {
    "colab": {
      "provenance": [],
      "authorship_tag": "ABX9TyNHIzjyBYnBxem2jPqwKVYd",
      "include_colab_link": true
    },
    "kernelspec": {
      "name": "python3",
      "display_name": "Python 3"
    },
    "language_info": {
      "name": "python"
    },
    "accelerator": "GPU",
    "gpuClass": "standard"
  },
  "cells": [
    {
      "cell_type": "markdown",
      "metadata": {
        "id": "view-in-github",
        "colab_type": "text"
      },
      "source": [
        "<a href=\"https://colab.research.google.com/github/robgon-art/ml-tabify/blob/main/ml_tabify_Lyrics_and_Chords_from_Songs.ipynb\" target=\"_parent\"><img src=\"https://colab.research.google.com/assets/colab-badge.svg\" alt=\"Open In Colab\"/></a>"
      ]
    },
    {
      "cell_type": "code",
      "source": [
        "!pip install autochord yt_dlp"
      ],
      "metadata": {
        "id": "mrG0tNnycHmn"
      },
      "execution_count": null,
      "outputs": []
    },
    {
      "cell_type": "code",
      "source": [
        "!pip install openai-whisper "
      ],
      "metadata": {
        "id": "wLcOU_G5rs7O"
      },
      "execution_count": null,
      "outputs": []
    },
    {
      "cell_type": "code",
      "source": [
        "def simplify_chord(chord):\n",
        "  if chord =='N':\n",
        "    return 'NC'\n",
        "  chord = chord.replace(\":min\", \"m\")\n",
        "  chord = chord.replace(\":maj\", \"\")\n",
        "  return chord"
      ],
      "metadata": {
        "id": "jvKgT9hjgb5Z"
      },
      "execution_count": null,
      "outputs": []
    },
    {
      "cell_type": "code",
      "source": [
        "def find_closest(sorted_list, target):\n",
        "  left, right = 0, len(sorted_list) - 1\n",
        "  while left < right:\n",
        "    mid = left + (right - left) // 2\n",
        "    if sorted_list[mid] == target:\n",
        "      return mid\n",
        "    elif sorted_list[mid] < target:\n",
        "      left = mid + 1\n",
        "    else:\n",
        "      right = mid\n",
        "  # Check if left is 0 or if the left-1 element is closer to the target\n",
        "  if left == 0 or abs(sorted_list[left - 1] - target) < abs(sorted_list[left] - target):\n",
        "    return left - 1\n",
        "  return left"
      ],
      "metadata": {
        "id": "y2cFcxbkr7T4"
      },
      "execution_count": null,
      "outputs": []
    },
    {
      "cell_type": "code",
      "execution_count": null,
      "metadata": {
        "id": "HdOy-DpNXZ6m",
        "colab": {
          "base_uri": "https://localhost:8080/"
        },
        "outputId": "34b98c14-ab48-4d84-8c19-9113fce04369"
      },
      "outputs": [
        {
          "output_type": "stream",
          "name": "stdout",
          "text": [
            "[youtube] Extracting URL: https://www.youtube.com/watch?v=aL3N7j_wXPk\n",
            "[youtube] aL3N7j_wXPk: Downloading webpage\n",
            "[youtube] aL3N7j_wXPk: Downloading android player API JSON\n",
            "[info] aL3N7j_wXPk: Downloading 1 format(s): 251\n",
            "[dashsegments] Total fragments: 1\n",
            "[download] Destination: THE AGENTS - Grow.webm\n",
            "[download] 100% of    4.01MiB in 00:00:01 at 2.68MiB/s               \n"
          ]
        }
      ],
      "source": [
        "import yt_dlp\n",
        "import os\n",
        "\n",
        "# url = \"https://soundcloud.com/rhodeiceland/bloody-brain-single\" # Rhode Iceland - Bloody Brain\n",
        "# url = \"https://www.youtube.com/watch?v=wnyZ1sgjbpA\" # Hi Fi Monk - Break\n",
        "url = \"https://www.youtube.com/watch?v=aL3N7j_wXPk\" # The Agents - Grow\n",
        "# url = \"https://soundcloud.com/robgonsalves/happy-birthday\" # Happy Birthday\n",
        "\n",
        "ytdl = yt_dlp.YoutubeDL({'format': 'bestaudio/best[height<=480]', 'outtmpl': '%(title)s.%(ext)s'})\n",
        "output_file = os.path.join(os.getcwd(), ytdl.prepare_filename(ytdl.extract_info(url)))"
      ]
    },
    {
      "cell_type": "code",
      "source": [
        "import librosa\n",
        "import numpy as np\n",
        "import scipy.stats\n",
        "y, sr = librosa.load(output_file, sr=16000)\n",
        "print(\"Duration (s):\", round(len(y)/sr, 2))"
      ],
      "metadata": {
        "id": "uU9JsGNew_bC",
        "colab": {
          "base_uri": "https://localhost:8080/"
        },
        "outputId": "d99b42f5-1d48-4bca-a05e-e7b725872eb0"
      },
      "execution_count": null,
      "outputs": [
        {
          "output_type": "stream",
          "name": "stderr",
          "text": [
            "<ipython-input-6-c7cc82b6c48c>:4: UserWarning: PySoundFile failed. Trying audioread instead.\n",
            "  y, sr = librosa.load(output_file, sr=16000)\n",
            "/usr/local/lib/python3.10/dist-packages/librosa/core/audio.py:184: FutureWarning: librosa.core.audio.__audioread_load\n",
            "\tDeprecated as of librosa version 0.10.0.\n",
            "\tIt will be removed in librosa version 1.0.\n",
            "  y, sr_native = __audioread_load(path, offset, duration, dtype)\n"
          ]
        },
        {
          "output_type": "stream",
          "name": "stdout",
          "text": [
            "Duration (s): 237.28\n"
          ]
        }
      ]
    },
    {
      "cell_type": "code",
      "source": [
        "import autochord\n",
        "chord_results = autochord.recognize(output_file)"
      ],
      "metadata": {
        "id": "yVm99af9ASEv",
        "colab": {
          "base_uri": "https://localhost:8080/"
        },
        "outputId": "633fff07-6744-4360-ad93-ab21bffba452"
      },
      "execution_count": null,
      "outputs": [
        {
          "output_type": "stream",
          "name": "stdout",
          "text": [
            "autochord: Initializing...\n",
            "autochord: Using NNLS-Chroma VAMP plugin in /root/vamp\n"
          ]
        },
        {
          "output_type": "stream",
          "name": "stderr",
          "text": [
            "Downloading...\n",
            "From: https://drive.google.com/uc?id=1XBn7FyYjF8Ff6EuC7PjwwPzFBLRXGP7n\n",
            "To: /root/.autochord/model.zip\n",
            "100%|██████████| 2.26M/2.26M [00:00<00:00, 240MB/s]\n"
          ]
        },
        {
          "output_type": "stream",
          "name": "stdout",
          "text": [
            "autochord: Chord model downloaded in /root/.autochord/chroma-seq-bilstm-crf-v1/\n",
            "autochord: Loaded model from /root/.autochord/chroma-seq-bilstm-crf-v1/\n"
          ]
        },
        {
          "output_type": "stream",
          "name": "stderr",
          "text": [
            "/usr/local/lib/python3.10/dist-packages/autochord/__init__.py:93: UserWarning: PySoundFile failed. Trying audioread instead.\n",
            "  samples, fs = librosa.load(audio_fn, sr=None, mono=True)\n",
            "/usr/local/lib/python3.10/dist-packages/librosa/core/audio.py:184: FutureWarning: librosa.core.audio.__audioread_load\n",
            "\tDeprecated as of librosa version 0.10.0.\n",
            "\tIt will be removed in librosa version 1.0.\n",
            "  y, sr_native = __audioread_load(path, offset, duration, dtype)\n"
          ]
        },
        {
          "output_type": "stream",
          "name": "stdout",
          "text": [
            "1/1 [==============================] - 4s 4s/step\n"
          ]
        }
      ]
    },
    {
      "cell_type": "code",
      "source": [
        "chord_starts = []\n",
        "chord_ends = []\n",
        "chords = []\n",
        "last_chord = \"NC\"\n",
        "for start_time, end_time, chord in chord_results:\n",
        "  chord_starts.append(start_time)\n",
        "  chord_ends.append(end_time)\n",
        "  chord = simplify_chord(chord)\n",
        "  if last_chord == \"NC\" and chord != \"NC\":\n",
        "    last_chord = chord\n",
        "  chords.append(chord)\n",
        "  print(\"{:6.2f}\".format(start_time), \"-\", \"{:6.2f}\".format(end_time), simplify_chord(chord))"
      ],
      "metadata": {
        "id": "yOb6jTMvA-1m",
        "colab": {
          "base_uri": "https://localhost:8080/"
        },
        "outputId": "f0a08584-5d96-4004-8cd9-b90a16d064be"
      },
      "execution_count": null,
      "outputs": [
        {
          "output_type": "stream",
          "name": "stdout",
          "text": [
            "  0.00 -   0.51 NC\n",
            "  0.51 -   2.37 Em\n",
            "  2.37 -   5.43 G\n",
            "  5.43 -   5.94 C\n",
            "  5.94 -   8.59 G\n",
            "  8.59 -  11.19 B\n",
            " 11.19 -  13.51 Em\n",
            " 13.51 -  19.13 G\n",
            " 19.13 -  21.87 B\n",
            " 21.87 -  24.57 Em\n",
            " 24.57 -  27.21 C\n",
            " 27.21 -  29.72 G\n",
            " 29.72 -  32.55 B\n",
            " 32.55 -  35.16 Em\n",
            " 35.16 -  37.20 C\n",
            " 37.20 -  40.40 G\n",
            " 40.40 -  43.10 B\n",
            " 43.10 -  45.46 Em\n",
            " 45.46 -  45.93 G\n",
            " 45.93 -  48.62 C\n",
            " 48.62 -  51.36 G\n",
            " 51.36 -  53.50 B\n",
            " 53.50 -  56.15 Em\n",
            " 56.15 -  56.66 G\n",
            " 56.66 -  59.44 C\n",
            " 59.44 -  61.90 G\n",
            " 61.90 -  64.55 B\n",
            " 64.55 -  66.87 Em\n",
            " 66.87 -  72.45 G\n",
            " 72.45 -  73.79 Bm\n",
            " 73.79 -  75.23 B\n",
            " 75.23 -  77.28 Em\n",
            " 77.28 -  78.34 C\n",
            " 78.34 -  83.22 G\n",
            " 83.22 -  86.01 B\n",
            " 86.01 -  88.75 Em\n",
            " 88.75 -  89.16 C\n",
            " 89.16 -  89.68 G\n",
            " 89.68 -  91.25 C\n",
            " 91.25 -  94.13 G\n",
            " 94.13 -  96.73 B\n",
            " 96.73 -  99.43 Em\n",
            " 99.43 - 102.12 C\n",
            "102.12 - 104.72 G\n",
            "104.72 - 107.00 B\n",
            "107.00 - 107.83 E\n",
            "107.83 - 110.20 Em\n",
            "110.20 - 112.94 C\n",
            "112.94 - 115.59 G\n",
            "115.59 - 118.14 B\n",
            "118.14 - 120.98 Em\n",
            "120.98 - 123.76 C\n",
            "123.76 - 126.36 G\n",
            "126.36 - 128.82 B\n",
            "128.82 - 131.70 C\n",
            "131.70 - 134.30 B\n",
            "134.30 - 136.72 C\n",
            "136.72 - 138.21 D\n",
            "138.21 - 139.74 Eb\n",
            "139.74 - 142.66 Em\n",
            "142.66 - 143.69 G\n",
            "143.69 - 144.94 C\n",
            "144.94 - 148.61 G\n",
            "148.61 - 150.23 B\n",
            "150.23 - 152.93 Em\n",
            "152.93 - 155.53 C\n",
            "155.53 - 158.22 G\n",
            "158.22 - 160.50 B\n",
            "160.50 - 163.56 Em\n",
            "163.56 - 165.51 C\n",
            "165.51 - 168.90 G\n",
            "168.90 - 171.46 B\n",
            "171.46 - 172.38 Em\n",
            "172.38 - 172.90 G\n",
            "172.90 - 174.10 Em\n",
            "174.10 - 176.75 C\n",
            "176.75 - 179.54 G\n",
            "179.54 - 182.23 B\n",
            "182.23 - 184.27 E\n",
            "184.27 - 184.83 G\n",
            "184.83 - 187.57 C\n",
            "187.57 - 190.22 G\n",
            "190.22 - 192.54 B\n",
            "192.54 - 195.70 Em\n",
            "195.70 - 198.25 C\n",
            "198.25 - 201.13 G\n",
            "201.13 - 202.11 B\n",
            "202.11 - 202.57 D\n",
            "202.57 - 203.31 B\n",
            "203.31 - 205.64 Em\n",
            "205.64 - 213.11 NC\n",
            "213.11 - 214.00 B\n",
            "214.00 - 217.06 Em\n",
            "217.06 - 219.94 C\n",
            "219.94 - 222.26 G\n",
            "222.26 - 224.95 B\n",
            "224.95 - 227.69 C\n",
            "227.69 - 230.34 B\n",
            "230.34 - 232.90 C\n",
            "232.90 - 236.01 D\n",
            "236.01 - 237.31 NC\n"
          ]
        }
      ]
    },
    {
      "cell_type": "code",
      "source": [
        "import whisper\n",
        "model = whisper.load_model(\"large\", \"cuda\")"
      ],
      "metadata": {
        "id": "M5Y2m6XFdnb1",
        "colab": {
          "base_uri": "https://localhost:8080/"
        },
        "outputId": "8603fbbd-6329-4def-b05f-21f29f0ef28a"
      },
      "execution_count": null,
      "outputs": [
        {
          "output_type": "stream",
          "name": "stderr",
          "text": [
            "100%|█████████████████████████████████████| 2.87G/2.87G [00:39<00:00, 79.1MiB/s]\n"
          ]
        }
      ]
    },
    {
      "cell_type": "code",
      "source": [
        "result = model.transcribe(output_file, word_timestamps=True, temperature=0.5)\n",
        "segments = result['segments']\n",
        "for segment in segments:\n",
        "  start_time = segment['start']\n",
        "  end_time = segment['end']\n",
        "  text = segment['text']\n",
        "  text = text.replace(\"🎵\", \"\")\n",
        "  print(text.strip())\n",
        "  # print(\"{:6.2f}\".format(start_time), \"-\", \"{:6.2f}\".format(end_time), text)"
      ],
      "metadata": {
        "id": "J7ivOCEoiiQh",
        "colab": {
          "base_uri": "https://localhost:8080/"
        },
        "outputId": "d0cdd979-006b-4aab-d9e3-5227c588a79b"
      },
      "execution_count": null,
      "outputs": [
        {
          "output_type": "stream",
          "name": "stdout",
          "text": [
            "\n",
            "\n",
            "Yeah!\n",
            "\n",
            "On that day, the very first day I met you girl\n",
            "The very first time I held your hand\n",
            "The very first time I looked into your eyes\n",
            "I told you that I loved you\n",
            "From that day till ever after\n",
            "The troubling times, the sorrow, the laughter\n",
            "Hand in hand now we walk together\n",
            "Can't imagine anything better now\n",
            "Grow, let your love grow, grow\n",
            "Let your love come rise up, rise up\n",
            "Plant the seed and let your love grow\n",
            "Higher and higher\n",
            "Grow, let your love grow, grow\n",
            "Let your love come rise up, rise up\n",
            "Plant the seed and let your love grow\n",
            "Higher and higher\n",
            "Yeah, yeah, yeah\n",
            "\n",
            "Yeah!\n",
            "When was love at first sight?\n",
            "The very first night I held your hand\n",
            "I opened up my arms to hold you tight\n",
            "I put my arms around you and I told you that\n",
            "I never wanna let you go\n",
            "From that day till ever after\n",
            "The troubling times, the sorrow, the laughter\n",
            "Hand in hand now we walk together\n",
            "Can't imagine anything better now\n",
            "Grow, let your love grow, grow\n",
            "Let your love come rise up, rise up\n",
            "Plant the seed and let your love grow\n",
            "Higher and higher\n",
            "Grow, let your love grow, grow\n",
            "Let your love come rise up, rise up\n",
            "Plant the seed and let your love grow\n",
            "Higher and higher\n",
            "Yeah, yeah, yeah\n",
            "\n",
            "Watch out\n",
            "\n",
            "Hey!\n",
            "\n",
            "Yeah, yeah\n",
            "\n",
            "Watch\n",
            "\n",
            "Yeah!\n",
            "Night, night, night\n",
            "When you lay beside me\n",
            "Lost in your arms as you look back at me\n",
            "I held you close when I pulled you tightly\n",
            "Told you that I'd love you if you let me\n",
            "From that day till ever after\n",
            "The troubling times, the sorrow, the laughter\n",
            "Hand in hand now we walk together\n",
            "Can't imagine anything better now\n",
            "Grow, let your love grow, grow\n",
            "Let your love come rise up, rise up\n",
            "Plant the seed and let your love grow\n",
            "Higher and higher\n",
            "Grow, let your love grow, grow\n",
            "Let your love come rise up, rise up\n",
            "Plant the seed and let your love grow\n",
            "Higher and higher\n",
            "\n"
          ]
        }
      ]
    },
    {
      "cell_type": "code",
      "source": [
        "segments = result['segments']\n",
        "word_starts = []\n",
        "word_ends = []\n",
        "words = []\n",
        "segment_ends = []\n",
        "\n",
        "for segment in segments:\n",
        "  ws = segment['words']\n",
        "  segment_ends.append(segment['end'])\n",
        "  for word in ws:\n",
        "    text = word['word']\n",
        "    start_time = word['start']\n",
        "    end_time = word['end']\n",
        "    if text.startswith(\"-\"):\n",
        "      words[-1] = words[-1] + text\n",
        "      word_ends[-1] = end_time\n",
        "      continue\n",
        "    word_starts.append(start_time)\n",
        "    word_ends.append(end_time)\n",
        "    text = text.replace(\"🎵\", \"\")\n",
        "    words.append(text)\n",
        "\n",
        "# for w, s, e in zip(words, word_starts, word_ends):\n",
        "#   print(w, round(s, 2), round(e, 2))"
      ],
      "metadata": {
        "id": "FNNLi93HiX9f"
      },
      "execution_count": null,
      "outputs": []
    },
    {
      "cell_type": "code",
      "source": [
        "chord_for_word = [\"NC\"] * len(words)\n",
        "for start_time, end_time, chord in chord_results:\n",
        "  chord = simplify_chord(chord)\n",
        "  if chord != \"NC\":\n",
        "    index = find_closest(word_starts, start_time)\n",
        "    chord_for_word[index] = chord"
      ],
      "metadata": {
        "id": "iJlaZL79sIZt"
      },
      "execution_count": null,
      "outputs": []
    },
    {
      "cell_type": "code",
      "source": [
        "word_count = 0\n",
        "space_char = ' '\n",
        "i = 0\n",
        "for segment in segments:\n",
        "  chord_line = \"\"\n",
        "  start_time = segment['start']\n",
        "  end_time = segment['end']\n",
        "  text = segment['text']\n",
        "  text = text.replace(\"🎵\", \"\")\n",
        "  word_list = text.split()\n",
        "  num_words = len(word_list)\n",
        "  for j in range(word_count, word_count+num_words):\n",
        "    word = words[j].strip()\n",
        "    chord = chord_for_word[j]\n",
        "    if chord == \"NC\" and j == word_count:\n",
        "      chord = last_chord\n",
        "    if chord == \"NC\":\n",
        "      chord_line += space_char*len(word) + space_char\n",
        "    else:\n",
        "      gap = \"\"\n",
        "      if len(word) > len(chord):\n",
        "        gap = space_char*(len(word)-len(chord))\n",
        "      chord_line += chord + gap + space_char\n",
        "      last_chord = chord\n",
        "  text = text.strip()\n",
        "  if len(text) > 0:\n",
        "    print(chord_line)\n",
        "    print(text)\n",
        "  word_count += num_words\n",
        "  i+=1\n",
        "  # if i>16:\n",
        "  #   break"
      ],
      "metadata": {
        "colab": {
          "base_uri": "https://localhost:8080/"
        },
        "id": "lKvNorXWp2l-",
        "outputId": "01dee069-baed-4f4a-d1ea-c5ea16e61b9e"
      },
      "execution_count": null,
      "outputs": [
        {
          "output_type": "stream",
          "name": "stdout",
          "text": [
            "B \n",
            "Yeah!\n",
            "B Em                                      C   \n",
            "On that day, the very first day I met you girl\n",
            "C                              G    \n",
            "The very first time I held your hand\n",
            "G                               B           \n",
            "The very first time I looked into your eyes\n",
            "B                           \n",
            "I told you that I loved you\n",
            "B         Em                 \n",
            "From that day till ever after\n",
            "Em         C                                \n",
            "The troubling times, the sorrow, the laughter\n",
            "C   G                            \n",
            "Hand in hand now we walk together\n",
            "G             B                      \n",
            "Can't imagine anything better now\n",
            "B          Em                  \n",
            "Grow, let your love grow, grow\n",
            "G     C                       G        \n",
            "Let your love come rise up, rise up\n",
            "G                              B    \n",
            "Plant the seed and let your love grow\n",
            "B                \n",
            "Higher and higher\n",
            "B          Em                  \n",
            "Grow, let your love grow, grow\n",
            "C                                  G   \n",
            "Let your love come rise up, rise up\n",
            "G                          B        \n",
            "Plant the seed and let your love grow\n",
            "B                \n",
            "Higher and higher\n",
            "B                \n",
            "Yeah, yeah, yeah\n",
            "Em    \n",
            "Yeah!\n",
            "Em   Bm G     B        Em   \n",
            "When was love at first sight?\n",
            "Em                                     \n",
            "The very first night I held your hand\n",
            "C    G         C                      \n",
            "I opened up my arms to hold you tight\n",
            "G                                           B \n",
            "I put my arms around you and I told you that\n",
            "B                           \n",
            "I never wanna let you go\n",
            "B          Em            \n",
            "From that day till ever after\n",
            "Em              C                        \n",
            "The troubling times, the sorrow, the laughter\n",
            "C                    G                \n",
            "Hand in hand now we walk together\n",
            "G                B             \n",
            "Can't imagine anything better now\n",
            "B               E   Em             \n",
            "Grow, let your love grow, grow\n",
            "Em         C                       G    \n",
            "Let your love come rise up, rise up\n",
            "G                              B   \n",
            "Plant the seed and let your love grow\n",
            "B              \n",
            "Higher and higher\n",
            "B          Em                    \n",
            "Grow, let your love grow, grow\n",
            "Em         C                       G    \n",
            "Let your love come rise up, rise up\n",
            "G                              B   \n",
            "Plant the seed and let your love grow\n",
            "B              \n",
            "Higher and higher\n",
            "B                 \n",
            "Yeah, yeah, yeah\n",
            "C           \n",
            "Watch out\n",
            "B    \n",
            "Hey!\n",
            "C Eb    \n",
            "Yeah, yeah\n",
            "C   \n",
            "Watch\n",
            "Em \n",
            "Yeah!\n",
            "C    G B     \n",
            "Night, night, night\n",
            "G           B G     \n",
            "When you lay beside me\n",
            "B      E                                G  C       \n",
            "Lost in your arms as you look back at me\n",
            "C                                  \n",
            "I held you close when I pulled you tightly\n",
            "G                                        B        \n",
            "Told you that I'd love you if you let me\n",
            "B                        \n",
            "From that day till ever after\n",
            "B   Em                         \n",
            "The troubling times, the sorrow, the laughter\n",
            "Em    C                                    \n",
            "Hand in hand now we walk together\n",
            "C        G                \n",
            "Can't imagine anything better now\n",
            "G                      B       D        \n",
            "Grow, let your love grow, grow\n",
            "B      Em                                 \n",
            "Let your love come rise up, rise up\n",
            "Em                                  \n",
            "Plant the seed and let your love grow\n",
            "Em             \n",
            "Higher and higher\n",
            "Em                            \n",
            "Grow, let your love grow, grow\n",
            "B          Em                        C    \n",
            "Let your love come rise up, rise up\n",
            "C                       G           \n",
            "Plant the seed and let your love grow\n",
            "G              \n",
            "Higher and higher\n"
          ]
        }
      ]
    },
    {
      "cell_type": "code",
      "source": [
        "word_count = 0\n",
        "space_char = ' '\n",
        "i = 0\n",
        "for segment in segments:\n",
        "    text_line = \"\"\n",
        "    start_time = segment['start']\n",
        "    end_time = segment['end']\n",
        "    text = segment['text']\n",
        "    text = text.replace(\"🎵\", \"\")\n",
        "    word_list = text.split()\n",
        "    num_words = len(word_list)\n",
        "    for j in range(word_count, word_count + num_words):\n",
        "        word = words[j].strip()\n",
        "        chord = chord_for_word[j]\n",
        "        if chord == \"NC\" and j == word_count:\n",
        "            chord = last_chord\n",
        "        if chord == \"NC\":\n",
        "            text_line += word + space_char\n",
        "        else:\n",
        "            text_line += f\"[{chord}] {word}\" + space_char\n",
        "            last_chord = chord\n",
        "    text_line = text_line.strip()\n",
        "    if len(text_line) > 0:\n",
        "        print(text_line)\n",
        "    word_count += num_words\n",
        "    i += 1\n"
      ],
      "metadata": {
        "id": "wIc0qVVS43Nd",
        "outputId": "61acde44-3be9-4f17-8c8f-1a2dc5e8a3a8",
        "colab": {
          "base_uri": "https://localhost:8080/"
        }
      },
      "execution_count": null,
      "outputs": [
        {
          "output_type": "stream",
          "name": "stdout",
          "text": [
            "[B]\n",
            "[B]  [Em] Yeah! On that day, the very first day I [C] met\n",
            "[C] you girl The very first time I [G] held\n",
            "[G] your hand The very first time I [B] looked into\n",
            "[B] your eyes I told you that I\n",
            "[B] loved you [Em] From that day till\n",
            "[Em] ever after [C] The troubling times, the sorrow,\n",
            "[C] the [G] laughter Hand in hand now we\n",
            "[G] walk together [B] Can't imagine anything\n",
            "[B] better now [Em] Grow, let your love\n",
            "[G] grow, [C] grow Let your love come [G] rise up,\n",
            "[G] rise up Plant the seed and let [B] your\n",
            "[B] love grow Higher\n",
            "[B] and higher [Em] Grow, let your love\n",
            "[C] grow, grow Let your love come rise [G] up,\n",
            "[G] rise up Plant the seed and [B] let your\n",
            "[B] love grow Higher\n",
            "[B] and higher Yeah,\n",
            "[Em] yeah,\n",
            "[Em] yeah [Bm]  [G] Yeah! [B] When was [Em] love\n",
            "[Em] at first sight? The very first night I\n",
            "[C] held [G] your hand [C] I opened up my arms to\n",
            "[G] hold you tight I put my arms around you and [B] I\n",
            "[B] told you that I never wanna\n",
            "[B] let you go [Em] From that day\n",
            "[Em] till ever after [C] The troubling times, the\n",
            "[C] sorrow, the laughter [G] Hand in hand now\n",
            "[G] we walk together [B] Can't imagine\n",
            "[B] anything better [E] now [Em] Grow, let your\n",
            "[Em] love grow, [C] grow Let your love come [G] rise\n",
            "[G] up, rise up Plant the seed and [B] let\n",
            "[B] your love grow\n",
            "[B] Higher and [Em] higher Grow, let your\n",
            "[Em] love grow, [C] grow Let your love come [G] rise\n",
            "[G] up, rise up Plant the seed and [B] let\n",
            "[B] your love grow\n",
            "[B] Higher and higher\n",
            "[C] Yeah, yeah,\n",
            "[B] yeah\n",
            "[C]  [Eb] Watch\n",
            "[C] out\n",
            "[Em]\n",
            "[C] Hey! [G]  [B] Yeah,\n",
            "[G] yeah  Watch [B]  [G] Yeah!\n",
            "[B] Night, [E] night, night When you lay beside [G] me [C] Lost in\n",
            "[C] your arms as you look back at me I\n",
            "[G] held you close when I pulled you tightly [B] Told you\n",
            "[B] that I'd love you if you\n",
            "[B] let [Em] me From that day till ever\n",
            "[Em] after [C] The troubling times, the sorrow, the\n",
            "[C] laughter [G] Hand in hand now\n",
            "[G] we walk together Can't [B] imagine [D] anything\n",
            "[B] better [Em] now Grow, let your love grow, grow\n",
            "[Em] Let your love come rise up, rise up\n",
            "[Em] Plant the seed\n",
            "[Em] and let your love grow Higher\n",
            "[B] and higher [Em] Grow, let your love grow, [C] grow\n",
            "[C] Let your love come rise [G] up, rise up\n",
            "[G] Plant the seed\n"
          ]
        }
      ]
    }
  ]
}