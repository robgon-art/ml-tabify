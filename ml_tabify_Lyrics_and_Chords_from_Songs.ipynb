{
  "nbformat": 4,
  "nbformat_minor": 0,
  "metadata": {
    "colab": {
      "provenance": [],
      "authorship_tag": "ABX9TyP7hrNlqPxfBbYlsaujPJ27",
      "include_colab_link": true
    },
    "kernelspec": {
      "name": "python3",
      "display_name": "Python 3"
    },
    "language_info": {
      "name": "python"
    },
    "accelerator": "GPU",
    "gpuClass": "standard"
  },
  "cells": [
    {
      "cell_type": "markdown",
      "metadata": {
        "id": "view-in-github",
        "colab_type": "text"
      },
      "source": [
        "<a href=\"https://colab.research.google.com/github/robgon-art/ml-tabify/blob/main/ml_tabify_Lyrics_and_Chords_from_Songs.ipynb\" target=\"_parent\"><img src=\"https://colab.research.google.com/assets/colab-badge.svg\" alt=\"Open In Colab\"/></a>"
      ]
    },
    {
      "cell_type": "code",
      "source": [
        "!pip install autochord yt_dlp"
      ],
      "metadata": {
        "id": "mrG0tNnycHmn",
        "outputId": "ab006f19-6aa0-4961-ad72-2002c594103b",
        "colab": {
          "base_uri": "https://localhost:8080/"
        }
      },
      "execution_count": 1,
      "outputs": [
        {
          "output_type": "stream",
          "name": "stdout",
          "text": [
            "Looking in indexes: https://pypi.org/simple, https://us-python.pkg.dev/colab-wheels/public/simple/\n",
            "Collecting autochord\n",
            "  Downloading autochord-0.1.4-py3-none-any.whl (350 kB)\n",
            "\u001b[2K     \u001b[90m━━━━━━━━━━━━━━━━━━━━━━━━━━━━━━━━━━━━━━━\u001b[0m \u001b[32m350.3/350.3 kB\u001b[0m \u001b[31m7.1 MB/s\u001b[0m eta \u001b[36m0:00:00\u001b[0m\n",
            "\u001b[?25hCollecting yt_dlp\n",
            "  Downloading yt_dlp-2023.3.4-py2.py3-none-any.whl (2.9 MB)\n",
            "\u001b[2K     \u001b[90m━━━━━━━━━━━━━━━━━━━━━━━━━━━━━━━━━━━━━━━━\u001b[0m \u001b[32m2.9/2.9 MB\u001b[0m \u001b[31m54.1 MB/s\u001b[0m eta \u001b[36m0:00:00\u001b[0m\n",
            "\u001b[?25hRequirement already satisfied: gdown>=3.11 in /usr/local/lib/python3.10/dist-packages (from autochord) (4.6.6)\n",
            "Requirement already satisfied: numpy>=1.19 in /usr/local/lib/python3.10/dist-packages (from autochord) (1.22.4)\n",
            "Requirement already satisfied: scipy>=1.4 in /usr/local/lib/python3.10/dist-packages (from autochord) (1.10.1)\n",
            "Requirement already satisfied: librosa>=0.8 in /usr/local/lib/python3.10/dist-packages (from autochord) (0.10.0.post2)\n",
            "Collecting vamp (from autochord)\n",
            "  Downloading vamp-1.1.0.tar.gz (107 kB)\n",
            "\u001b[2K     \u001b[90m━━━━━━━━━━━━━━━━━━━━━━━━━━━━━━━━━━━━━━\u001b[0m \u001b[32m107.8/107.8 kB\u001b[0m \u001b[31m10.6 MB/s\u001b[0m eta \u001b[36m0:00:00\u001b[0m\n",
            "\u001b[?25h  Preparing metadata (setup.py) ... \u001b[?25l\u001b[?25hdone\n",
            "Collecting lazycats (from autochord)\n",
            "  Downloading lazycats-0.1.0-py3-none-any.whl (3.2 kB)\n",
            "Requirement already satisfied: tensorflow>=2.6 in /usr/local/lib/python3.10/dist-packages (from autochord) (2.12.0)\n",
            "Collecting mutagen (from yt_dlp)\n",
            "  Downloading mutagen-1.46.0-py3-none-any.whl (193 kB)\n",
            "\u001b[2K     \u001b[90m━━━━━━━━━━━━━━━━━━━━━━━━━━━━━━━━━━━━━━\u001b[0m \u001b[32m193.6/193.6 kB\u001b[0m \u001b[31m17.3 MB/s\u001b[0m eta \u001b[36m0:00:00\u001b[0m\n",
            "\u001b[?25hCollecting pycryptodomex (from yt_dlp)\n",
            "  Downloading pycryptodomex-3.17-cp35-abi3-manylinux_2_17_x86_64.manylinux2014_x86_64.whl (2.1 MB)\n",
            "\u001b[2K     \u001b[90m━━━━━━━━━━━━━━━━━━━━━━━━━━━━━━━━━━━━━━━━\u001b[0m \u001b[32m2.1/2.1 MB\u001b[0m \u001b[31m29.5 MB/s\u001b[0m eta \u001b[36m0:00:00\u001b[0m\n",
            "\u001b[?25hCollecting websockets (from yt_dlp)\n",
            "  Downloading websockets-11.0.3-cp310-cp310-manylinux_2_5_x86_64.manylinux1_x86_64.manylinux_2_17_x86_64.manylinux2014_x86_64.whl (129 kB)\n",
            "\u001b[2K     \u001b[90m━━━━━━━━━━━━━━━━━━━━━━━━━━━━━━━━━━━━━━━\u001b[0m \u001b[32m129.9/129.9 kB\u001b[0m \u001b[31m6.5 MB/s\u001b[0m eta \u001b[36m0:00:00\u001b[0m\n",
            "\u001b[?25hRequirement already satisfied: certifi in /usr/local/lib/python3.10/dist-packages (from yt_dlp) (2022.12.7)\n",
            "Collecting brotli (from yt_dlp)\n",
            "  Downloading Brotli-1.0.9-cp310-cp310-manylinux_2_5_x86_64.manylinux1_x86_64.manylinux_2_12_x86_64.manylinux2010_x86_64.whl (2.7 MB)\n",
            "\u001b[2K     \u001b[90m━━━━━━━━━━━━━━━━━━━━━━━━━━━━━━━━━━━━━━━━\u001b[0m \u001b[32m2.7/2.7 MB\u001b[0m \u001b[31m31.4 MB/s\u001b[0m eta \u001b[36m0:00:00\u001b[0m\n",
            "\u001b[?25hRequirement already satisfied: filelock in /usr/local/lib/python3.10/dist-packages (from gdown>=3.11->autochord) (3.12.0)\n",
            "Requirement already satisfied: requests[socks] in /usr/local/lib/python3.10/dist-packages (from gdown>=3.11->autochord) (2.27.1)\n",
            "Requirement already satisfied: six in /usr/local/lib/python3.10/dist-packages (from gdown>=3.11->autochord) (1.16.0)\n",
            "Requirement already satisfied: tqdm in /usr/local/lib/python3.10/dist-packages (from gdown>=3.11->autochord) (4.65.0)\n",
            "Requirement already satisfied: beautifulsoup4 in /usr/local/lib/python3.10/dist-packages (from gdown>=3.11->autochord) (4.11.2)\n",
            "Requirement already satisfied: audioread>=2.1.9 in /usr/local/lib/python3.10/dist-packages (from librosa>=0.8->autochord) (3.0.0)\n",
            "Requirement already satisfied: scikit-learn>=0.20.0 in /usr/local/lib/python3.10/dist-packages (from librosa>=0.8->autochord) (1.2.2)\n",
            "Requirement already satisfied: joblib>=0.14 in /usr/local/lib/python3.10/dist-packages (from librosa>=0.8->autochord) (1.2.0)\n",
            "Requirement already satisfied: decorator>=4.3.0 in /usr/local/lib/python3.10/dist-packages (from librosa>=0.8->autochord) (4.4.2)\n",
            "Requirement already satisfied: numba>=0.51.0 in /usr/local/lib/python3.10/dist-packages (from librosa>=0.8->autochord) (0.56.4)\n",
            "Requirement already satisfied: soundfile>=0.12.1 in /usr/local/lib/python3.10/dist-packages (from librosa>=0.8->autochord) (0.12.1)\n",
            "Requirement already satisfied: pooch<1.7,>=1.0 in /usr/local/lib/python3.10/dist-packages (from librosa>=0.8->autochord) (1.6.0)\n",
            "Requirement already satisfied: soxr>=0.3.2 in /usr/local/lib/python3.10/dist-packages (from librosa>=0.8->autochord) (0.3.5)\n",
            "Requirement already satisfied: typing-extensions>=4.1.1 in /usr/local/lib/python3.10/dist-packages (from librosa>=0.8->autochord) (4.5.0)\n",
            "Requirement already satisfied: lazy-loader>=0.1 in /usr/local/lib/python3.10/dist-packages (from librosa>=0.8->autochord) (0.2)\n",
            "Requirement already satisfied: msgpack>=1.0 in /usr/local/lib/python3.10/dist-packages (from librosa>=0.8->autochord) (1.0.5)\n",
            "Requirement already satisfied: absl-py>=1.0.0 in /usr/local/lib/python3.10/dist-packages (from tensorflow>=2.6->autochord) (1.4.0)\n",
            "Requirement already satisfied: astunparse>=1.6.0 in /usr/local/lib/python3.10/dist-packages (from tensorflow>=2.6->autochord) (1.6.3)\n",
            "Requirement already satisfied: flatbuffers>=2.0 in /usr/local/lib/python3.10/dist-packages (from tensorflow>=2.6->autochord) (23.3.3)\n",
            "Requirement already satisfied: gast<=0.4.0,>=0.2.1 in /usr/local/lib/python3.10/dist-packages (from tensorflow>=2.6->autochord) (0.4.0)\n",
            "Requirement already satisfied: google-pasta>=0.1.1 in /usr/local/lib/python3.10/dist-packages (from tensorflow>=2.6->autochord) (0.2.0)\n",
            "Requirement already satisfied: grpcio<2.0,>=1.24.3 in /usr/local/lib/python3.10/dist-packages (from tensorflow>=2.6->autochord) (1.54.0)\n",
            "Requirement already satisfied: h5py>=2.9.0 in /usr/local/lib/python3.10/dist-packages (from tensorflow>=2.6->autochord) (3.8.0)\n",
            "Requirement already satisfied: jax>=0.3.15 in /usr/local/lib/python3.10/dist-packages (from tensorflow>=2.6->autochord) (0.4.8)\n",
            "Requirement already satisfied: keras<2.13,>=2.12.0 in /usr/local/lib/python3.10/dist-packages (from tensorflow>=2.6->autochord) (2.12.0)\n",
            "Requirement already satisfied: libclang>=13.0.0 in /usr/local/lib/python3.10/dist-packages (from tensorflow>=2.6->autochord) (16.0.0)\n",
            "Requirement already satisfied: opt-einsum>=2.3.2 in /usr/local/lib/python3.10/dist-packages (from tensorflow>=2.6->autochord) (3.3.0)\n",
            "Requirement already satisfied: packaging in /usr/local/lib/python3.10/dist-packages (from tensorflow>=2.6->autochord) (23.1)\n",
            "Requirement already satisfied: protobuf!=4.21.0,!=4.21.1,!=4.21.2,!=4.21.3,!=4.21.4,!=4.21.5,<5.0.0dev,>=3.20.3 in /usr/local/lib/python3.10/dist-packages (from tensorflow>=2.6->autochord) (3.20.3)\n",
            "Requirement already satisfied: setuptools in /usr/local/lib/python3.10/dist-packages (from tensorflow>=2.6->autochord) (67.7.2)\n",
            "Requirement already satisfied: tensorboard<2.13,>=2.12 in /usr/local/lib/python3.10/dist-packages (from tensorflow>=2.6->autochord) (2.12.2)\n",
            "Requirement already satisfied: tensorflow-estimator<2.13,>=2.12.0 in /usr/local/lib/python3.10/dist-packages (from tensorflow>=2.6->autochord) (2.12.0)\n",
            "Requirement already satisfied: termcolor>=1.1.0 in /usr/local/lib/python3.10/dist-packages (from tensorflow>=2.6->autochord) (2.3.0)\n",
            "Requirement already satisfied: wrapt<1.15,>=1.11.0 in /usr/local/lib/python3.10/dist-packages (from tensorflow>=2.6->autochord) (1.14.1)\n",
            "Requirement already satisfied: tensorflow-io-gcs-filesystem>=0.23.1 in /usr/local/lib/python3.10/dist-packages (from tensorflow>=2.6->autochord) (0.32.0)\n",
            "Requirement already satisfied: wheel<1.0,>=0.23.0 in /usr/local/lib/python3.10/dist-packages (from astunparse>=1.6.0->tensorflow>=2.6->autochord) (0.40.0)\n",
            "Requirement already satisfied: ml-dtypes>=0.0.3 in /usr/local/lib/python3.10/dist-packages (from jax>=0.3.15->tensorflow>=2.6->autochord) (0.1.0)\n",
            "Requirement already satisfied: llvmlite<0.40,>=0.39.0dev0 in /usr/local/lib/python3.10/dist-packages (from numba>=0.51.0->librosa>=0.8->autochord) (0.39.1)\n",
            "Requirement already satisfied: appdirs>=1.3.0 in /usr/local/lib/python3.10/dist-packages (from pooch<1.7,>=1.0->librosa>=0.8->autochord) (1.4.4)\n",
            "Requirement already satisfied: threadpoolctl>=2.0.0 in /usr/local/lib/python3.10/dist-packages (from scikit-learn>=0.20.0->librosa>=0.8->autochord) (3.1.0)\n",
            "Requirement already satisfied: cffi>=1.0 in /usr/local/lib/python3.10/dist-packages (from soundfile>=0.12.1->librosa>=0.8->autochord) (1.15.1)\n",
            "Requirement already satisfied: google-auth<3,>=1.6.3 in /usr/local/lib/python3.10/dist-packages (from tensorboard<2.13,>=2.12->tensorflow>=2.6->autochord) (2.17.3)\n",
            "Requirement already satisfied: google-auth-oauthlib<1.1,>=0.5 in /usr/local/lib/python3.10/dist-packages (from tensorboard<2.13,>=2.12->tensorflow>=2.6->autochord) (1.0.0)\n",
            "Requirement already satisfied: markdown>=2.6.8 in /usr/local/lib/python3.10/dist-packages (from tensorboard<2.13,>=2.12->tensorflow>=2.6->autochord) (3.4.3)\n",
            "Requirement already satisfied: tensorboard-data-server<0.8.0,>=0.7.0 in /usr/local/lib/python3.10/dist-packages (from tensorboard<2.13,>=2.12->tensorflow>=2.6->autochord) (0.7.0)\n",
            "Requirement already satisfied: tensorboard-plugin-wit>=1.6.0 in /usr/local/lib/python3.10/dist-packages (from tensorboard<2.13,>=2.12->tensorflow>=2.6->autochord) (1.8.1)\n",
            "Requirement already satisfied: werkzeug>=1.0.1 in /usr/local/lib/python3.10/dist-packages (from tensorboard<2.13,>=2.12->tensorflow>=2.6->autochord) (2.3.0)\n",
            "Requirement already satisfied: soupsieve>1.2 in /usr/local/lib/python3.10/dist-packages (from beautifulsoup4->gdown>=3.11->autochord) (2.4.1)\n",
            "Requirement already satisfied: urllib3<1.27,>=1.21.1 in /usr/local/lib/python3.10/dist-packages (from requests[socks]->gdown>=3.11->autochord) (1.26.15)\n",
            "Requirement already satisfied: charset-normalizer~=2.0.0 in /usr/local/lib/python3.10/dist-packages (from requests[socks]->gdown>=3.11->autochord) (2.0.12)\n",
            "Requirement already satisfied: idna<4,>=2.5 in /usr/local/lib/python3.10/dist-packages (from requests[socks]->gdown>=3.11->autochord) (3.4)\n",
            "Requirement already satisfied: PySocks!=1.5.7,>=1.5.6 in /usr/local/lib/python3.10/dist-packages (from requests[socks]->gdown>=3.11->autochord) (1.7.1)\n",
            "Requirement already satisfied: pycparser in /usr/local/lib/python3.10/dist-packages (from cffi>=1.0->soundfile>=0.12.1->librosa>=0.8->autochord) (2.21)\n",
            "Requirement already satisfied: cachetools<6.0,>=2.0.0 in /usr/local/lib/python3.10/dist-packages (from google-auth<3,>=1.6.3->tensorboard<2.13,>=2.12->tensorflow>=2.6->autochord) (5.3.0)\n",
            "Requirement already satisfied: pyasn1-modules>=0.2.1 in /usr/local/lib/python3.10/dist-packages (from google-auth<3,>=1.6.3->tensorboard<2.13,>=2.12->tensorflow>=2.6->autochord) (0.3.0)\n",
            "Requirement already satisfied: rsa<5,>=3.1.4 in /usr/local/lib/python3.10/dist-packages (from google-auth<3,>=1.6.3->tensorboard<2.13,>=2.12->tensorflow>=2.6->autochord) (4.9)\n",
            "Requirement already satisfied: requests-oauthlib>=0.7.0 in /usr/local/lib/python3.10/dist-packages (from google-auth-oauthlib<1.1,>=0.5->tensorboard<2.13,>=2.12->tensorflow>=2.6->autochord) (1.3.1)\n",
            "Requirement already satisfied: MarkupSafe>=2.1.1 in /usr/local/lib/python3.10/dist-packages (from werkzeug>=1.0.1->tensorboard<2.13,>=2.12->tensorflow>=2.6->autochord) (2.1.2)\n",
            "Requirement already satisfied: pyasn1<0.6.0,>=0.4.6 in /usr/local/lib/python3.10/dist-packages (from pyasn1-modules>=0.2.1->google-auth<3,>=1.6.3->tensorboard<2.13,>=2.12->tensorflow>=2.6->autochord) (0.5.0)\n",
            "Requirement already satisfied: oauthlib>=3.0.0 in /usr/local/lib/python3.10/dist-packages (from requests-oauthlib>=0.7.0->google-auth-oauthlib<1.1,>=0.5->tensorboard<2.13,>=2.12->tensorflow>=2.6->autochord) (3.2.2)\n",
            "Building wheels for collected packages: vamp\n",
            "  Building wheel for vamp (setup.py) ... \u001b[?25l\u001b[?25hdone\n",
            "  Created wheel for vamp: filename=vamp-1.1.0-cp310-cp310-linux_x86_64.whl size=1690216 sha256=787418bc2e24de94271c2a892e678e08cc78ed3c5b94e166a40aa37d7697bdee\n",
            "  Stored in directory: /root/.cache/pip/wheels/36/9e/b1/230ac612a8aa718cf3e2485eac386ae72a4da61d7c31ac4bb2\n",
            "Successfully built vamp\n",
            "Installing collected packages: vamp, brotli, websockets, pycryptodomex, mutagen, lazycats, yt_dlp, autochord\n",
            "Successfully installed autochord-0.1.4 brotli-1.0.9 lazycats-0.1.0 mutagen-1.46.0 pycryptodomex-3.17 vamp-1.1.0 websockets-11.0.3 yt_dlp-2023.3.4\n"
          ]
        }
      ]
    },
    {
      "cell_type": "code",
      "source": [
        "!pip install openai-whisper "
      ],
      "metadata": {
        "id": "wLcOU_G5rs7O",
        "outputId": "34bbad0b-29f1-4e71-b0e4-063519b5ab90",
        "colab": {
          "base_uri": "https://localhost:8080/"
        }
      },
      "execution_count": 2,
      "outputs": [
        {
          "output_type": "stream",
          "name": "stdout",
          "text": [
            "Looking in indexes: https://pypi.org/simple, https://us-python.pkg.dev/colab-wheels/public/simple/\n",
            "Collecting openai-whisper\n",
            "  Downloading openai-whisper-20230314.tar.gz (792 kB)\n",
            "\u001b[2K     \u001b[90m━━━━━━━━━━━━━━━━━━━━━━━━━━━━━━━━━━━━━━━\u001b[0m \u001b[32m792.9/792.9 kB\u001b[0m \u001b[31m5.3 MB/s\u001b[0m eta \u001b[36m0:00:00\u001b[0m\n",
            "\u001b[?25h  Installing build dependencies ... \u001b[?25l\u001b[?25hdone\n",
            "  Getting requirements to build wheel ... \u001b[?25l\u001b[?25hdone\n",
            "  Preparing metadata (pyproject.toml) ... \u001b[?25l\u001b[?25hdone\n",
            "Requirement already satisfied: triton==2.0.0 in /usr/local/lib/python3.10/dist-packages (from openai-whisper) (2.0.0)\n",
            "Requirement already satisfied: numba in /usr/local/lib/python3.10/dist-packages (from openai-whisper) (0.56.4)\n",
            "Requirement already satisfied: numpy in /usr/local/lib/python3.10/dist-packages (from openai-whisper) (1.22.4)\n",
            "Requirement already satisfied: torch in /usr/local/lib/python3.10/dist-packages (from openai-whisper) (2.0.0+cu118)\n",
            "Requirement already satisfied: tqdm in /usr/local/lib/python3.10/dist-packages (from openai-whisper) (4.65.0)\n",
            "Requirement already satisfied: more-itertools in /usr/local/lib/python3.10/dist-packages (from openai-whisper) (9.1.0)\n",
            "Collecting tiktoken==0.3.1 (from openai-whisper)\n",
            "  Downloading tiktoken-0.3.1-cp310-cp310-manylinux_2_17_x86_64.manylinux2014_x86_64.whl (1.7 MB)\n",
            "\u001b[2K     \u001b[90m━━━━━━━━━━━━━━━━━━━━━━━━━━━━━━━━━━━━━━━━\u001b[0m \u001b[32m1.7/1.7 MB\u001b[0m \u001b[31m48.5 MB/s\u001b[0m eta \u001b[36m0:00:00\u001b[0m\n",
            "\u001b[?25hCollecting ffmpeg-python==0.2.0 (from openai-whisper)\n",
            "  Downloading ffmpeg_python-0.2.0-py3-none-any.whl (25 kB)\n",
            "Requirement already satisfied: future in /usr/local/lib/python3.10/dist-packages (from ffmpeg-python==0.2.0->openai-whisper) (0.18.3)\n",
            "Requirement already satisfied: regex>=2022.1.18 in /usr/local/lib/python3.10/dist-packages (from tiktoken==0.3.1->openai-whisper) (2022.10.31)\n",
            "Requirement already satisfied: requests>=2.26.0 in /usr/local/lib/python3.10/dist-packages (from tiktoken==0.3.1->openai-whisper) (2.27.1)\n",
            "Requirement already satisfied: cmake in /usr/local/lib/python3.10/dist-packages (from triton==2.0.0->openai-whisper) (3.25.2)\n",
            "Requirement already satisfied: filelock in /usr/local/lib/python3.10/dist-packages (from triton==2.0.0->openai-whisper) (3.12.0)\n",
            "Requirement already satisfied: lit in /usr/local/lib/python3.10/dist-packages (from triton==2.0.0->openai-whisper) (16.0.3)\n",
            "Requirement already satisfied: llvmlite<0.40,>=0.39.0dev0 in /usr/local/lib/python3.10/dist-packages (from numba->openai-whisper) (0.39.1)\n",
            "Requirement already satisfied: setuptools in /usr/local/lib/python3.10/dist-packages (from numba->openai-whisper) (67.7.2)\n",
            "Requirement already satisfied: typing-extensions in /usr/local/lib/python3.10/dist-packages (from torch->openai-whisper) (4.5.0)\n",
            "Requirement already satisfied: sympy in /usr/local/lib/python3.10/dist-packages (from torch->openai-whisper) (1.11.1)\n",
            "Requirement already satisfied: networkx in /usr/local/lib/python3.10/dist-packages (from torch->openai-whisper) (3.1)\n",
            "Requirement already satisfied: jinja2 in /usr/local/lib/python3.10/dist-packages (from torch->openai-whisper) (3.1.2)\n",
            "Requirement already satisfied: urllib3<1.27,>=1.21.1 in /usr/local/lib/python3.10/dist-packages (from requests>=2.26.0->tiktoken==0.3.1->openai-whisper) (1.26.15)\n",
            "Requirement already satisfied: certifi>=2017.4.17 in /usr/local/lib/python3.10/dist-packages (from requests>=2.26.0->tiktoken==0.3.1->openai-whisper) (2022.12.7)\n",
            "Requirement already satisfied: charset-normalizer~=2.0.0 in /usr/local/lib/python3.10/dist-packages (from requests>=2.26.0->tiktoken==0.3.1->openai-whisper) (2.0.12)\n",
            "Requirement already satisfied: idna<4,>=2.5 in /usr/local/lib/python3.10/dist-packages (from requests>=2.26.0->tiktoken==0.3.1->openai-whisper) (3.4)\n",
            "Requirement already satisfied: MarkupSafe>=2.0 in /usr/local/lib/python3.10/dist-packages (from jinja2->torch->openai-whisper) (2.1.2)\n",
            "Requirement already satisfied: mpmath>=0.19 in /usr/local/lib/python3.10/dist-packages (from sympy->torch->openai-whisper) (1.3.0)\n",
            "Building wheels for collected packages: openai-whisper\n",
            "  Building wheel for openai-whisper (pyproject.toml) ... \u001b[?25l\u001b[?25hdone\n",
            "  Created wheel for openai-whisper: filename=openai_whisper-20230314-py3-none-any.whl size=796910 sha256=7d0219e62d505b8a98e92d8a7664499872bed27bff4068bcc534b4f8cece6188\n",
            "  Stored in directory: /root/.cache/pip/wheels/b2/13/5f/fe8245f6dc59df505879da4b2129932e342f02a80e6b87f27d\n",
            "Successfully built openai-whisper\n",
            "Installing collected packages: ffmpeg-python, tiktoken, openai-whisper\n",
            "Successfully installed ffmpeg-python-0.2.0 openai-whisper-20230314 tiktoken-0.3.1\n"
          ]
        }
      ]
    },
    {
      "cell_type": "code",
      "source": [
        "def simplify_chord(chord):\n",
        "  if chord =='N':\n",
        "    return 'NC'\n",
        "  chord = chord.replace(\":min\", \"m\")\n",
        "  chord = chord.replace(\":maj\", \"\")\n",
        "  return chord"
      ],
      "metadata": {
        "id": "jvKgT9hjgb5Z"
      },
      "execution_count": 3,
      "outputs": []
    },
    {
      "cell_type": "code",
      "source": [
        "def find_closest(sorted_list, target):\n",
        "  left, right = 0, len(sorted_list) - 1\n",
        "  while left < right:\n",
        "    mid = left + (right - left) // 2\n",
        "    if sorted_list[mid] == target:\n",
        "      return mid\n",
        "    elif sorted_list[mid] < target:\n",
        "      left = mid + 1\n",
        "    else:\n",
        "      right = mid\n",
        "  # Check if left is 0 or if the left-1 element is closer to the target\n",
        "  if left == 0 or abs(sorted_list[left - 1] - target) < abs(sorted_list[left] - target):\n",
        "    return left - 1\n",
        "  return left"
      ],
      "metadata": {
        "id": "y2cFcxbkr7T4"
      },
      "execution_count": 4,
      "outputs": []
    },
    {
      "cell_type": "code",
      "execution_count": 5,
      "metadata": {
        "id": "HdOy-DpNXZ6m",
        "colab": {
          "base_uri": "https://localhost:8080/"
        },
        "outputId": "9c1ac33a-6e13-400c-8097-cd9c11931f46"
      },
      "outputs": [
        {
          "output_type": "stream",
          "name": "stdout",
          "text": [
            "[soundcloud] Extracting URL: https://soundcloud.com/robgonsalves/happy-birthday\n",
            "[soundcloud] robgonsalves/happy-birthday: Downloading info JSON\n",
            "[soundcloud] 1498178230: Downloading JSON metadata\n",
            "[soundcloud] 1498178230: Downloading JSON metadata\n",
            "[soundcloud] 1498178230: Downloading JSON metadata\n",
            "[info] 1498178230: Downloading 1 format(s): http_mp3_128\n",
            "[download] Destination: Happy Birthday.mp3\n",
            "[download] 100% of  481.63KiB in 00:00:00 at 1.56MiB/s   \n"
          ]
        }
      ],
      "source": [
        "import yt_dlp\n",
        "import os\n",
        "\n",
        "# url = \"https://soundcloud.com/rhodeiceland/bloody-brain-single\" # Rhode Iceland - Bloody Brain\n",
        "# url = \"https://www.youtube.com/watch?v=wnyZ1sgjbpA\" # Hi Fi Monk - Break\n",
        "# url = \"https://www.youtube.com/watch?v=aL3N7j_wXPk\" # The Agents - Grow\n",
        "url = \"https://soundcloud.com/robgonsalves/happy-birthday\" # Happy Birthday\n",
        "\n",
        "ytdl = yt_dlp.YoutubeDL({'format': 'bestaudio/best[height<=480]', 'outtmpl': '%(title)s.%(ext)s'})\n",
        "output_file = os.path.join(os.getcwd(), ytdl.prepare_filename(ytdl.extract_info(url)))"
      ]
    },
    {
      "cell_type": "code",
      "source": [
        "import librosa\n",
        "import numpy as np\n",
        "import scipy.stats\n",
        "y, sr = librosa.load(output_file, sr=16000)\n",
        "print(\"Duration (s):\", round(len(y)/sr, 2))"
      ],
      "metadata": {
        "id": "uU9JsGNew_bC",
        "colab": {
          "base_uri": "https://localhost:8080/"
        },
        "outputId": "c84f445a-d6d8-4642-dd4a-a78fe872b572"
      },
      "execution_count": 6,
      "outputs": [
        {
          "output_type": "stream",
          "name": "stdout",
          "text": [
            "Duration (s): 30.76\n"
          ]
        }
      ]
    },
    {
      "cell_type": "code",
      "source": [
        "import autochord\n",
        "chord_results = autochord.recognize(output_file, lab_fn='chords.lab')"
      ],
      "metadata": {
        "id": "yVm99af9ASEv",
        "colab": {
          "base_uri": "https://localhost:8080/"
        },
        "outputId": "048b5591-86bf-4f91-df83-9121b8fba75a"
      },
      "execution_count": 7,
      "outputs": [
        {
          "output_type": "stream",
          "name": "stdout",
          "text": [
            "autochord: Initializing...\n",
            "autochord: Using NNLS-Chroma VAMP plugin in /root/vamp\n"
          ]
        },
        {
          "output_type": "stream",
          "name": "stderr",
          "text": [
            "Downloading...\n",
            "From: https://drive.google.com/uc?id=1XBn7FyYjF8Ff6EuC7PjwwPzFBLRXGP7n\n",
            "To: /root/.autochord/model.zip\n",
            "100%|██████████| 2.26M/2.26M [00:00<00:00, 121MB/s]\n"
          ]
        },
        {
          "output_type": "stream",
          "name": "stdout",
          "text": [
            "autochord: Chord model downloaded in /root/.autochord/chroma-seq-bilstm-crf-v1/\n",
            "autochord: Loaded model from /root/.autochord/chroma-seq-bilstm-crf-v1/\n",
            "1/1 [==============================] - 4s 4s/step\n"
          ]
        }
      ]
    },
    {
      "cell_type": "code",
      "source": [
        "chord_starts = []\n",
        "chord_ends = []\n",
        "chords = []\n",
        "last_chord = \"NC\"\n",
        "for start_time, end_time, chord in chord_results:\n",
        "  chord_starts.append(start_time)\n",
        "  chord_ends.append(end_time)\n",
        "  chord = simplify_chord(chord)\n",
        "  if last_chord == \"NC\" and chord != \"NC\":\n",
        "    last_chord = chord\n",
        "  chords.append(chord)\n",
        "  print(\"{:6.2f}\".format(start_time), \"-\", \"{:6.2f}\".format(end_time), simplify_chord(chord))"
      ],
      "metadata": {
        "id": "yOb6jTMvA-1m",
        "colab": {
          "base_uri": "https://localhost:8080/"
        },
        "outputId": "abac9157-275a-4cc0-a56c-7e9fd7d9d785"
      },
      "execution_count": 8,
      "outputs": [
        {
          "output_type": "stream",
          "name": "stdout",
          "text": [
            "  0.00 -   7.11 C\n",
            "  7.11 -  11.89 G\n",
            " 11.89 -  15.56 C\n",
            " 15.56 -  19.32 F\n",
            " 19.32 -  20.67 C\n",
            " 20.67 -  21.64 G\n",
            " 21.64 -  29.72 C\n",
            " 29.72 -  29.77 NC\n",
            " 29.77 -  30.79 C\n"
          ]
        }
      ]
    },
    {
      "cell_type": "code",
      "source": [
        "import whisper\n",
        "model = whisper.load_model(\"large\", \"cuda\")"
      ],
      "metadata": {
        "id": "M5Y2m6XFdnb1",
        "colab": {
          "base_uri": "https://localhost:8080/"
        },
        "outputId": "54c35d93-c031-4eb5-85b4-045d5ce33ab7"
      },
      "execution_count": 9,
      "outputs": [
        {
          "output_type": "stream",
          "name": "stderr",
          "text": [
            "100%|█████████████████████████████████████| 2.87G/2.87G [00:32<00:00, 95.5MiB/s]\n"
          ]
        }
      ]
    },
    {
      "cell_type": "code",
      "source": [
        "result = model.transcribe(output_file, word_timestamps=True, temperature=0.5)\n",
        "segments = result['segments']\n",
        "for segment in segments:\n",
        "  start_time = segment['start']\n",
        "  end_time = segment['end']\n",
        "  text = segment['text']\n",
        "  text = text.replace(\"🎵\", \"\")\n",
        "  print(text.strip())\n",
        "  # print(\"{:6.2f}\".format(start_time), \"-\", \"{:6.2f}\".format(end_time), text)"
      ],
      "metadata": {
        "id": "J7ivOCEoiiQh",
        "colab": {
          "base_uri": "https://localhost:8080/"
        },
        "outputId": "0cb07148-6711-451d-f619-4b8805ef53ba"
      },
      "execution_count": 10,
      "outputs": [
        {
          "output_type": "stream",
          "name": "stdout",
          "text": [
            "Happy Birthday to you. Happy Birthday to you. Happy Birthday dear reader, Happy Birthday to you.\n"
          ]
        }
      ]
    },
    {
      "cell_type": "code",
      "source": [
        "segments = result['segments']\n",
        "word_starts = []\n",
        "word_ends = []\n",
        "words = []\n",
        "segment_ends = []\n",
        "\n",
        "for segment in segments:\n",
        "  ws = segment['words']\n",
        "  segment_ends.append(segment['end'])\n",
        "  for word in ws:\n",
        "    text = word['word']\n",
        "    start_time = word['start']\n",
        "    end_time = word['end']\n",
        "    if text.startswith(\"-\"):\n",
        "      words[-1] = words[-1] + text\n",
        "      word_ends[-1] = end_time\n",
        "      continue\n",
        "    word_starts.append(start_time)\n",
        "    word_ends.append(end_time)\n",
        "    text = text.replace(\"🎵\", \"\")\n",
        "    words.append(text)\n",
        "\n",
        "# for w, s, e in zip(words, word_starts, word_ends):\n",
        "#   print(w, round(s, 2), round(e, 2))"
      ],
      "metadata": {
        "id": "FNNLi93HiX9f"
      },
      "execution_count": 11,
      "outputs": []
    },
    {
      "cell_type": "code",
      "source": [
        "chord_for_word = [\"NC\"] * len(words)\n",
        "for start_time, end_time, chord in chord_results:\n",
        "  chord = simplify_chord(chord)\n",
        "  if chord != \"NC\":\n",
        "    index = find_closest(word_starts, start_time)\n",
        "    chord_for_word[index] = chord"
      ],
      "metadata": {
        "id": "iJlaZL79sIZt"
      },
      "execution_count": 12,
      "outputs": []
    },
    {
      "cell_type": "code",
      "source": [
        "word_count = 0\n",
        "space_char = ' '\n",
        "i = 0\n",
        "for segment in segments:\n",
        "  chord_line = \"\"\n",
        "  start_time = segment['start']\n",
        "  end_time = segment['end']\n",
        "  text = segment['text']\n",
        "  text = text.replace(\"🎵\", \"\")\n",
        "  word_list = text.split()\n",
        "  num_words = len(word_list)\n",
        "  for j in range(word_count, word_count+num_words):\n",
        "    word = words[j].strip()\n",
        "    chord = chord_for_word[j]\n",
        "    if chord == \"NC\" and j == word_count:\n",
        "      chord = last_chord\n",
        "    if chord == \"NC\":\n",
        "      chord_line += space_char*len(word) + space_char\n",
        "    else:\n",
        "      gap = \"\"\n",
        "      if len(word) > len(chord):\n",
        "        gap = space_char*(len(word)-len(chord))\n",
        "      chord_line += chord + gap + space_char\n",
        "      last_chord = chord\n",
        "  text = text.strip()\n",
        "  if len(text) > 0:\n",
        "    print(chord_line)\n",
        "    print(text)\n",
        "  word_count += num_words\n",
        "  i+=1\n",
        "  # if i>16:\n",
        "  #   break"
      ],
      "metadata": {
        "colab": {
          "base_uri": "https://localhost:8080/"
        },
        "id": "lKvNorXWp2l-",
        "outputId": "b2374d81-0c4e-484b-c0db-1b52d531d1bc"
      },
      "execution_count": 13,
      "outputs": [
        {
          "output_type": "stream",
          "name": "stdout",
          "text": [
            "C                 G                      C                   F                  C        G  C    \n",
            "Happy Birthday to you. Happy Birthday to you. Happy Birthday dear reader, Happy Birthday to you.\n"
          ]
        }
      ]
    },
    {
      "cell_type": "code",
      "source": [
        "word_count = 0\n",
        "space_char = ' '\n",
        "i = 0\n",
        "for segment in segments:\n",
        "    text_line = \"\"\n",
        "    start_time = segment['start']\n",
        "    end_time = segment['end']\n",
        "    text = segment['text']\n",
        "    text = text.replace(\"🎵\", \"\")\n",
        "    word_list = text.split()\n",
        "    num_words = len(word_list)\n",
        "    for j in range(word_count, word_count + num_words):\n",
        "        word = words[j].strip()\n",
        "        chord = chord_for_word[j]\n",
        "        if chord == \"NC\" and j == word_count:\n",
        "            chord = last_chord\n",
        "        if chord == \"NC\":\n",
        "            text_line += word + space_char\n",
        "        else:\n",
        "            text_line += f\"[{chord}] {word}\" + space_char\n",
        "            last_chord = chord\n",
        "    text_line = text_line.strip()\n",
        "    if len(text_line) > 0:\n",
        "        print(text_line)\n",
        "    word_count += num_words\n",
        "    i += 1\n"
      ],
      "metadata": {
        "id": "wIc0qVVS43Nd",
        "outputId": "f569c4f2-f58f-4d53-fbdd-68a31e2f1c2d",
        "colab": {
          "base_uri": "https://localhost:8080/"
        }
      },
      "execution_count": 14,
      "outputs": [
        {
          "output_type": "stream",
          "name": "stdout",
          "text": [
            "[C] Happy Birthday to [G] you. Happy Birthday to [C] you. Happy Birthday [F] dear reader, Happy [C] Birthday [G] to [C] you.\n"
          ]
        }
      ]
    }
  ]
}