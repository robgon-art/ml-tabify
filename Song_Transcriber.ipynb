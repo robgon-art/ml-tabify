{
  "nbformat": 4,
  "nbformat_minor": 0,
  "metadata": {
    "colab": {
      "provenance": [],
      "authorship_tag": "ABX9TyMmxKYeTVvQ5pUWUPHLEPnp",
      "include_colab_link": true
    },
    "kernelspec": {
      "name": "python3",
      "display_name": "Python 3"
    },
    "language_info": {
      "name": "python"
    },
    "accelerator": "GPU",
    "gpuClass": "premium"
  },
  "cells": [
    {
      "cell_type": "markdown",
      "metadata": {
        "id": "view-in-github",
        "colab_type": "text"
      },
      "source": [
        "<a href=\"https://colab.research.google.com/github/robgon-art/ml-tabify/blob/main/Song_Transcriber.ipynb\" target=\"_parent\"><img src=\"https://colab.research.google.com/assets/colab-badge.svg\" alt=\"Open In Colab\"/></a>"
      ]
    },
    {
      "cell_type": "code",
      "execution_count": null,
      "metadata": {
        "id": "0qpWLqRCg3Ij"
      },
      "outputs": [],
      "source": [
        "!pip install yt_dlp"
      ]
    },
    {
      "cell_type": "code",
      "source": [
        "!pip install openai-whisper"
      ],
      "metadata": {
        "id": "fCWBJ2Rbg_rE"
      },
      "execution_count": null,
      "outputs": []
    },
    {
      "cell_type": "code",
      "source": [
        "import whisper\n",
        "model = whisper.load_model(\"large\", \"cuda\")"
      ],
      "metadata": {
        "colab": {
          "base_uri": "https://localhost:8080/"
        },
        "id": "bwPtzPmyhBZr",
        "outputId": "d1713c9b-0b78-45f3-9c78-a98221aee4b8"
      },
      "execution_count": 4,
      "outputs": [
        {
          "output_type": "stream",
          "name": "stderr",
          "text": [
            "100%|██████████████████████████████████████| 2.87G/2.87G [00:13<00:00, 229MiB/s]\n"
          ]
        }
      ]
    },
    {
      "cell_type": "code",
      "source": [
        "import yt_dlp\n",
        "import os\n",
        "url = \"https://soundcloud.com/rhodeiceland/bloody-brain-single\" # Rhode Iceland - Bloody Brain\n",
        "# url = \"https://www.youtube.com/watch?v=wnyZ1sgjbpA\" # Hi Fi Monk - Break\n",
        "# url = \"https://www.youtube.com/watch?v=aL3N7j_wXPk\" # The Agents - Grow\n",
        "\n",
        "ytdl = yt_dlp.YoutubeDL({'format': 'bestaudio/best[height<=480]', 'outtmpl': '%(title)s.%(ext)s'})\n",
        "output_file = os.path.join(os.getcwd(), ytdl.prepare_filename(ytdl.extract_info(url)))"
      ],
      "metadata": {
        "colab": {
          "base_uri": "https://localhost:8080/"
        },
        "id": "E6Hepq3Og9wv",
        "outputId": "f109e8d0-5221-4161-c3f0-1c3fbbe6a938"
      },
      "execution_count": 7,
      "outputs": [
        {
          "output_type": "stream",
          "name": "stdout",
          "text": [
            "[soundcloud] Extracting URL: https://soundcloud.com/rhodeiceland/bloody-brain-single\n",
            "[soundcloud] rhodeiceland/bloody-brain-single: Downloading info JSON\n",
            "[soundcloud] 258672149: Downloading JSON metadata\n",
            "[soundcloud] 258672149: Downloading JSON metadata\n",
            "[info] 258672149: Downloading 1 format(s): http_mp3_128\n",
            "[download] Destination: Bloody Brain (single).mp3\n",
            "[download] 100% of    3.24MiB in 00:00:01 at 2.48MiB/s   \n"
          ]
        }
      ]
    },
    {
      "cell_type": "code",
      "source": [
        "result = model.transcribe(output_file)"
      ],
      "metadata": {
        "id": "zkQh6O7IhC5r"
      },
      "execution_count": 8,
      "outputs": []
    },
    {
      "cell_type": "code",
      "source": [
        "segments = result['segments']\n",
        "for segment in segments:\n",
        "  start_time = segment['start']\n",
        "  end_time = segment['end']\n",
        "  text = segment['text'].strip()\n",
        "  text = text.replace(\"🎵\", \"\")\n",
        "  print(text)"
      ],
      "metadata": {
        "colab": {
          "base_uri": "https://localhost:8080/"
        },
        "id": "mrSOVG29hI1G",
        "outputId": "5e66abe3-21fe-4a45-e1ad-1993cc1d69d6"
      },
      "execution_count": 11,
      "outputs": [
        {
          "output_type": "stream",
          "name": "stdout",
          "text": [
            "\n",
            "Walkin' down a hidden upstream\n",
            "Towards a bloody gone brain\n",
            "I wanna make nothin' mine\n",
            "I wanna take everything and let it burn\n",
            "I wanna take everything and make it mine\n",
            "\n",
            "I'm confused by your toys\n",
            "And my symptoms\n",
            "\n",
            "Walk on\n",
            "Walk on and out\n",
            "\n",
            "Get me out of your head\n",
            "Get me out of your heart\n",
            "Get out of my head\n",
            "Get out of my heart\n",
            "\n",
            "\n",
            "\n",
            "Walk on and out\n",
            "Get me out of your head\n",
            "\n",
            "Walk on and out\n",
            "Get me out of your heart\n",
            "\n",
            "Walk on\n",
            "Walk on\n",
            "Get me out of your head\n",
            "Get out of my head\n",
            "Get out of my head\n",
            "Get me out of your heart\n",
            "\n"
          ]
        }
      ]
    }
  ]
}